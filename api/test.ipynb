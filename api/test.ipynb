{
 "cells": [
  {
   "cell_type": "code",
   "execution_count": 7,
   "metadata": {},
   "outputs": [
    {
     "name": "stdout",
     "output_type": "stream",
     "text": [
      "1706.03762\n"
     ]
    }
   ],
   "source": [
    "import re\n",
    "\n",
    "link = \"https://arxiv.org/pdf/1706.03762.pdf\"\n",
    "if link[0:22] == \"https://arxiv.org/pdf/\":\n",
    "    pattern = r\"\\d{4}\\.\\d{5}\"\n",
    "\n",
    "    match = re.search(pattern, link)\n",
    "    if match:\n",
    "        query = match.group(0)\n",
    "    return \n",
    "        res = [\"None\"]\n",
    "    "
   ]
  },
  {
   "cell_type": "code",
   "execution_count": 2,
   "metadata": {},
   "outputs": [
    {
     "data": {
      "text/plain": [
       "'https://arxiv.org/pdf/1709.06308v1.pdf'"
      ]
     },
     "execution_count": 2,
     "metadata": {},
     "output_type": "execute_result"
    }
   ],
   "source": [
    "link[0:22] = \"https://arxiv.org/pdf/\""
   ]
  }
 ],
 "metadata": {
  "kernelspec": {
   "display_name": "tensor",
   "language": "python",
   "name": "python3"
  },
  "language_info": {
   "codemirror_mode": {
    "name": "ipython",
    "version": 3
   },
   "file_extension": ".py",
   "mimetype": "text/x-python",
   "name": "python",
   "nbconvert_exporter": "python",
   "pygments_lexer": "ipython3",
   "version": "3.9.13"
  },
  "orig_nbformat": 4
 },
 "nbformat": 4,
 "nbformat_minor": 2
}
